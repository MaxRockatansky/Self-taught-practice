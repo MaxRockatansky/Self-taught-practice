{
 "cells": [
  {
   "cell_type": "markdown",
   "metadata": {},
   "source": [
    "# Arithmetic Operators\n",
    "\n",
    "## ** Exponent\n",
    "## % Module/Remainder\n",
    "## // Integer division/Floored Quotient\n",
    "## / division\n",
    "## * Multiplication\n",
    "## - Subtraction\n",
    "## + Addition\n"
   ]
  },
  {
   "cell_type": "markdown",
   "metadata": {},
   "source": [
    "# ORDER OF OPERATIONS\n",
    "\n",
    "### Please       Excuse     My              Dear      Aunt      Sally\n",
    "### Parethenses  Exponentes Multiplication  Division  Addition  Subtraction "
   ]
  },
  {
   "cell_type": "code",
   "execution_count": null,
   "metadata": {},
   "outputs": [],
   "source": []
  }
 ],
 "metadata": {
  "kernelspec": {
   "display_name": "Python 3",
   "language": "python",
   "name": "python3"
  },
  "language_info": {
   "codemirror_mode": {
    "name": "ipython",
    "version": 3
   },
   "file_extension": ".py",
   "mimetype": "text/x-python",
   "name": "python",
   "nbconvert_exporter": "python",
   "pygments_lexer": "ipython3",
   "version": "3.6.5"
  }
 },
 "nbformat": 4,
 "nbformat_minor": 2
}
